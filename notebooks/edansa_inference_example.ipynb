{
 "cells": [
  {
   "cell_type": "markdown",
   "metadata": {},
   "source": [
    "# EDANSA Inference Example\n",
    "\n",
    "This notebook demonstrates how to set up the EDANSA environment, download the pre-trained model, and run inference on a sample audio file using `inference.py`."
   ]
  },
  {
   "cell_type": "markdown",
   "metadata": {},
   "source": [
    "## 1. Setup Environment\n",
    "\n",
    "First, we clone the repository, install necessary dependencies including the `edansa` package itself, and ensure `ffmpeg` is available for audio processing."
   ]
  },
  {
   "cell_type": "code",
   "execution_count": null,
   "metadata": {},
   "outputs": [],
   "source": [
    "# Clone the repository (replace with your actual repo URL if different)\n",
    "!git clone https://github.com/berk/EDANSA-2019.git\n",
    "%cd EDANSA-2019\n",
    "\n",
    "# Install the edansa package and dependencies\n",
    "# Note: In Colab, we might need to install specific versions if needed\n",
    "!pip install -q .\n",
    "\n",
    "\n",
    "# Install ffmpeg (for audio loading backend)\n",
    "!apt-get update && apt-get install -y -qq ffmpeg"
   ]
  },
  {
   "cell_type": "markdown",
   "metadata": {},
   "source": [
    "## 2. Prepare Input Data List\n",
    "\n",
    "The inference script can take a list of absolute file paths as input. We'll create a simple list containing one of the test audio files included in the repository.\n",
    "\n",
    "**Note:** The script requires *absolute* paths within the Colab environment."
   ]
  },
  {
   "cell_type": "code",
   "execution_count": null,
   "metadata": {},
   "outputs": [],
   "source": [
    "import os\n",
    "\n",
    "# Define the sample audio file path relative to the repo root\n",
    "sample_audio_relative = 'src/edansa/tests/assets/audio/real/anwr/47/2022/S4A10341_20220802_235902.flac'\n",
    "\n",
    "# Get the absolute path within the Colab environment\n",
    "repo_absolute_path = '/content/EDANSA-2019' # Default cloned repo directory in Colab\n",
    "sample_audio_absolute = os.path.join(repo_absolute_path, sample_audio_relative)\n",
    "\n",
    "# Create a directory for the input list (if it doesn't exist)\n",
    "input_list_dir = '/content/input_lists'\n",
    "os.makedirs(input_list_dir, exist_ok=True)\n",
    "\n",
    "# Define the path for the input file list\n",
    "input_list_file = os.path.join(input_list_dir, 'sample_files.txt')\n",
    "\n",
    "# Write the absolute path to the list file\n",
    "with open(input_list_file, 'w') as f:\n",
    "    f.write(f'{sample_audio_absolute}\\n')\n",
    "\n",
    "# Print the contents of the list file to verify\n",
    "print(f'Created input list file at: {input_list_file}')\n",
    "!cat {input_list_file}"
   ]
  },
  {
   "cell_type": "markdown",
   "metadata": {},
   "source": [
    "## 3. Run Inference\n",
    "\n",
    "Now we execute the `inference.py` script. We need to provide:\n",
    "*   `--model_path`: Path to the pre-trained model directory.\n",
    "*   `--input_files_list`: Path to the text file containing the list of audio files.\n",
    "*   `--output_folder`: Directory where the prediction CSVs will be saved."
   ]
  },
  {
   "cell_type": "code",
   "execution_count": null,
   "metadata": {},
   "outputs": [],
   "source": [
    "# Define paths (relative paths work from the repo root: /content/EDANSA-2019)\n",
    "MODEL_PATH = 'src/edansa/tests/assets/31m2plxv-V1' # User specified model path within the repo\n",
    "INPUT_LIST = '/content/input_lists/sample_files.txt' # Absolute path created above\n",
    "OUTPUT_DIR = '/content/edansa_output' # Define an output directory in Colab\n",
    "SCRIPT_PATH = 'src/edansa/inference.py' # Relative path to the script within the repo\n",
    "\n",
    "# Create the output directory\n",
    "os.makedirs(OUTPUT_DIR, exist_ok=True)\n",
    "\n",
    "# Construct and run the inference command\n",
    "# We are running this from the repository root directory (/content/EDANSA-2019)\n",
    "!python {SCRIPT_PATH} \\\n",
    "    --model_path {MODEL_PATH} \\\n",
    "    --input_files_list {INPUT_LIST} \\\n",
    "    --output_folder {OUTPUT_DIR}"
   ]
  },
  {
   "cell_type": "markdown",
   "metadata": {},
   "source": [
    "## 4. Check Results\n",
    "\n",
    "The script saves predictions in the specified output folder, mirroring the input file's path relative to a common root directory identified from the input paths. Let's list the contents of the output directory and view the generated CSV file."
   ]
  },
  {
   "cell_type": "code",
   "execution_count": null,
   "metadata": {},
   "outputs": [],
   "source": [
    "import pandas as pd\n",
    "import os\n",
    "\n",
    "# List the output directory contents recursively to see the structure\n",
    "print(f'Contents of {OUTPUT_DIR}:')\n",
    "!ls -R {OUTPUT_DIR}\n",
    "\n",
    "# Construct the expected output path\n",
    "# The inference script determines the common root from the input paths \n",
    "# (here, '/content/EDANSA-2019/') and replicates the relative path \n",
    "# ('src/edansa/tests/assets/audio/real/anwr/47/2022/...') under the output folder.\n",
    "relative_output_path = 'src/edansa/tests/assets/audio/real/anwr/47/2022/S4A10341_20220802_235902.csv'\n",
    "expected_output_csv = os.path.join(OUTPUT_DIR, relative_output_path)\n",
    "\n",
    "print(f'\\nAttempting to read: {expected_output_csv}')\n",
    "\n",
    "# Display the first few rows of the output CSV using pandas\n",
    "try:\n",
    "    # Make sure pandas is installed (usually is in Colab)\n",
    "    !pip install -q pandas\n",
    "    df = pd.read_csv(expected_output_csv)\n",
    "    print('\\nPrediction CSV Head:')\n",
    "    print(df.head())\n",
    "except FileNotFoundError:\n",
    "    print(f'\\nError: Output CSV not found at {expected_output_csv}')\n",
    "    print('Please check the `ls -R` output above and the inference script logs to confirm the correct path and if the script ran successfully.')\n",
    "except Exception as e:\n",
    "    print(f'\\nAn error occurred while reading the CSV: {e}')"
   ]
  }
 ],
 "metadata": {
  "kernelspec": {
   "display_name": "Python 3",
   "language": "python",
   "name": "python3"
  },
  "language_info": {
   "name": "python",
   "version": "3.x"
  }
 },
 "nbformat": 4,
 "nbformat_minor": 2
}
